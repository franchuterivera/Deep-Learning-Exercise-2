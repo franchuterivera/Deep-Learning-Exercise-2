{
  "nbformat": 4,
  "nbformat_minor": 0,
  "metadata": {
    "colab": {
      "name": "Labo Deep Learning Assingment 2 -- CNN.ipynb",
      "version": "0.3.2",
      "provenance": [],
      "collapsed_sections": []
    },
    "kernelspec": {
      "name": "python3",
      "display_name": "Python 3"
    },
    "accelerator": "GPU"
  },
  "cells": [
    {
      "metadata": {
        "id": "Jad0HBiIaMdK",
        "colab_type": "text"
      },
      "cell_type": "markdown",
      "source": [
        "##Implementing a CNN in TensorFlow"
      ]
    },
    {
      "metadata": {
        "id": "z4aGfb2jaW3X",
        "colab_type": "text"
      },
      "cell_type": "markdown",
      "source": [
        "### Import Libraries and Define Globals"
      ]
    },
    {
      "metadata": {
        "id": "5VqHFCKEvvrM",
        "colab_type": "code",
        "colab": {}
      },
      "cell_type": "code",
      "source": [
        "#--- Import Data\n",
        "from __future__ import print_function\n",
        "import argparse\n",
        "import gzip\n",
        "import json\n",
        "import os\n",
        "import pickle\n",
        "import numpy as np\n",
        "import tensorflow as tf \n",
        "import matplotlib.pyplot as plt\n",
        "from tensorflow.contrib.layers import flatten\n",
        "from sklearn.utils import shuffle\n",
        "import shutil"
      ],
      "execution_count": 0,
      "outputs": []
    },
    {
      "metadata": {
        "id": "uaHXHN88aoGJ",
        "colab_type": "text"
      },
      "cell_type": "markdown",
      "source": [
        "### Common Functions"
      ]
    },
    {
      "metadata": {
        "id": "SRS8i7Dbadr6",
        "colab_type": "code",
        "colab": {}
      },
      "cell_type": "code",
      "source": [
        "def one_hot(labels):\n",
        "    \"\"\"this creates a one hot encoding from a flat vector:\n",
        "    i.e. given y = [0,2,1]\n",
        "     it creates y_one_hot = [[1,0,0], [0,0,1], [0,1,0]]\n",
        "    \"\"\"\n",
        "    classes = np.unique(labels)\n",
        "    n_classes = classes.size\n",
        "    one_hot_labels = np.zeros(labels.shape + (n_classes,))\n",
        "    for c in classes:\n",
        "        one_hot_labels[labels == c, c] = 1\n",
        "    return one_hot_labels\n",
        "\n",
        "\n",
        "def mnist(datasets_dir='./data'):\n",
        "    if not os.path.exists(datasets_dir):\n",
        "        os.mkdir(datasets_dir)\n",
        "    data_file = os.path.join(datasets_dir, 'mnist.pkl.gz')\n",
        "    if not os.path.exists(data_file):\n",
        "        print('... downloading MNIST from the web')\n",
        "        try:\n",
        "            import urllib\n",
        "            urllib.urlretrieve('http://google.com')\n",
        "        except AttributeError:\n",
        "            import urllib.request as urllib\n",
        "        url = 'http://www.iro.umontreal.ca/~lisa/deep/data/mnist/mnist.pkl.gz'\n",
        "        urllib.urlretrieve(url, data_file)\n",
        "\n",
        "    print('... loading data')\n",
        "    #--- Load the dataset\n",
        "    f = gzip.open(data_file, 'rb')\n",
        "    try:\n",
        "        train_set, valid_set, test_set = pickle.load(f, encoding=\"latin1\")\n",
        "    except TypeError:\n",
        "        train_set, valid_set, test_set = pickle.load(f)\n",
        "    f.close()\n",
        "\n",
        "    test_x, test_y = test_set\n",
        "    test_x = test_x.astype('float32')\n",
        "    test_x = test_x.astype('float32').reshape(test_x.shape[0], 28, 28, 1)\n",
        "    test_y = test_y.astype('int32')\n",
        "    valid_x, valid_y = valid_set\n",
        "    valid_x = valid_x.astype('float32')\n",
        "    valid_x = valid_x.astype('float32').reshape(valid_x.shape[0], 28, 28, 1)\n",
        "    valid_y = valid_y.astype('int32')\n",
        "    train_x, train_y = train_set\n",
        "    train_x = train_x.astype('float32').reshape(train_x.shape[0], 28, 28, 1)\n",
        "    train_y = train_y.astype('int32')\n",
        "    \n",
        "    print('... done loading data')\n",
        "    return train_x, one_hot(train_y), valid_x, one_hot(valid_y), test_x, one_hot(test_y)\n"
      ],
      "execution_count": 0,
      "outputs": []
    },
    {
      "metadata": {
        "id": "0SdzA4eIewQQ",
        "colab_type": "text"
      },
      "cell_type": "markdown",
      "source": [
        "### Define the LeNet 5 Model\n",
        "\n",
        "First, we will implement a scaled-down version of LeNet which we have discussed\n",
        "during the lecture. Before you start, checkout the Tensorflow tutorial\n",
        "https://www.tensorflow.org/tutorials/.\n",
        "Our CNN consists of two convolutional layers (16 3 ×3 filters and a stride of\n",
        "1), each followed by ReLU activation function and a max pooling layer (pool size\n",
        "2). After the convolution layers we add a fully connected layer with 128 units\n",
        "and a softmax layer for the classification. We train the network by optimizing\n",
        "the cross-entropy loss with stochastic gradient descent.\n",
        "Make sure that you save the validation performance after each epoch, i.e the\n",
        "learning curve, since we are going to need them for the experiments in the next\n",
        "section."
      ]
    },
    {
      "metadata": {
        "id": "ScXzazfBewkr",
        "colab_type": "code",
        "colab": {}
      },
      "cell_type": "code",
      "source": [
        "def LeNet_5(x, filter_size, num_filters):\n",
        " \n",
        "     #---  Layer 1 Convolutional Layer\n",
        "     conv1_w = tf.Variable(tf.truncated_normal(shape = [filter_size,filter_size,1,num_filters],mean = 0, stddev = 0.1)) # Filter shape filter_height * filter_width * in_channels, output_channels]\n",
        "     conv1_b = tf.Variable(tf.zeros(num_filters))\n",
        "     conv1 = tf.nn.conv2d(x,conv1_w, strides = [1,1,1,1], padding = 'SAME') + conv1_b \n",
        "     conv1 = tf.nn.relu(conv1)\n",
        "\n",
        "     #--- Pooling Layer\n",
        "     pool_1 = tf.nn.max_pool(conv1, ksize = [1,2,2,1], strides = [1,2,2,1], padding = 'VALID')\n",
        "\n",
        "     #--- Layer 2: Convolutional. Output = 14x14xnum_filters.\n",
        "     conv2_w = tf.Variable(tf.truncated_normal(shape = [filter_size,filter_size,num_filters,num_filters], mean = 0, stddev = 0.1))\n",
        "     conv2_b = tf.Variable(tf.zeros(num_filters))\n",
        "     conv2 = tf.nn.conv2d(pool_1, conv2_w, strides = [1,1,1,1], padding = 'SAME') + conv2_b\n",
        "     # TODO: Activation.\n",
        "     conv2 = tf.nn.relu(conv2)\n",
        "\n",
        "     #--- Pooling\n",
        "     pool_2 = tf.nn.max_pool(conv2, ksize = [1,2,2,1], strides = [1,2,2,1], padding = 'VALID')\n",
        "\n",
        "     #--- Flatten\n",
        "     fc1 = flatten(pool_2)\n",
        "\n",
        "     #--- Layer 3 Fully Connected Layers\n",
        "     flattened_size = 7*7*num_filters\n",
        "     fc1_w = tf.Variable(tf.truncated_normal(shape = (flattened_size,128), mean = 0, stddev = 0.1))\n",
        "     fc1_b = tf.Variable(tf.zeros(128))\n",
        "     fc1 = tf.matmul(fc1,fc1_w) + fc1_b\n",
        "     fc1 = tf.nn.relu(fc1)\n",
        "\n",
        "      #--- Prepare for softmax\n",
        "     fc2_w = tf.Variable(tf.truncated_normal(shape = (128,10), mean = 0, stddev = 0.1))\n",
        "     fc2_b = tf.Variable(tf.zeros(10))\n",
        "     fc2 = tf.matmul(fc1,fc2_w) + fc2_b\n",
        "     return fc2"
      ],
      "execution_count": 0,
      "outputs": []
    },
    {
      "metadata": {
        "id": "qlqiJPr0X_6v",
        "colab_type": "text"
      },
      "cell_type": "markdown",
      "source": [
        "###Define the training and Evaluation functions"
      ]
    },
    {
      "metadata": {
        "id": "bHxXQ6jwX_Wp",
        "colab_type": "code",
        "colab": {}
      },
      "cell_type": "code",
      "source": [
        "SAVE_PATH = './save'\n",
        "MODEL_NAME = 'nmist'\n",
        "tf.reset_default_graph()\n",
        "\n",
        "if not os.path.exists(SAVE_PATH):\n",
        "    os.mkdir(SAVE_PATH)\n",
        "\n",
        "def train_and_validate(x_train, y_train, x_valid, y_valid, num_epochs, lr, filter_size, num_filters, batch_size):\n",
        "    # TODO: train and validate your convolutional neural networks with the provided data and hyperparameters\n",
        "    x = tf.placeholder(tf.float32, shape=[None,28,28,1], name='input_data')\n",
        "    y = tf.placeholder(tf.int32, (None), name='output_data')\n",
        "    \n",
        "    #create the model\n",
        "    model = LeNet_5(x, filter_size, num_filters)\n",
        "    \n",
        "    #Softmax with cost function implementation\n",
        "    cross_entropy = tf.nn.softmax_cross_entropy_with_logits_v2(labels = y, logits = model)\n",
        "    loss_operation = tf.reduce_mean(cross_entropy)\n",
        "    optimizer = tf.train.GradientDescentOptimizer(lr)\n",
        "    training_operation = optimizer.minimize(loss_operation)\n",
        "    \n",
        "    #Train the model\n",
        "    correct_prediction = tf.equal(tf.argmax(model,1), tf.argmax(y,1))\n",
        "    accuracy_operation = tf.reduce_mean(tf.cast(correct_prediction, tf.float32), name='accuracy')\n",
        "    \n",
        "    #Register The learning curve\n",
        "    learning_curve = np.zeros(num_epochs)\n",
        "    \n",
        "    #Save model \n",
        "    saver = tf.train.Saver()\n",
        "    \n",
        "    with tf.Session() as sess:\n",
        "          sess.run(tf.global_variables_initializer())\n",
        "          num_examples = len(x_train)\n",
        "          print(\"Training... with dataset - X:{} and Y:{} \".format(x_train.shape, y_train.shape))\n",
        "          print()\n",
        "          for i in range(num_epochs):\n",
        "              x_train_shuffled, y_train_shuffled = shuffle(x_train, y_train)\n",
        "              for offset in range(0, num_examples, batch_size):\n",
        "                  end = offset + batch_size\n",
        "                  batch_x, batch_y = x_train_shuffled[offset:end], y_train_shuffled[offset:end]          \n",
        "                  sess.run(training_operation, feed_dict={x: batch_x, y: batch_y})\n",
        "              learning_curve[i] =  1 - accuracy_operation.eval({x: x_valid, y: y_valid})\n",
        "          path = saver.save(sess, SAVE_PATH + \"/model.ckpt\")\n",
        "          print(\"saved at {}\".format(path))\n",
        "          print('-'*40, \"\\nValidation Error = {:.3f}\\n\".format(learning_curve[-1]), '-'*40) \n",
        "    return learning_curve, path  # TODO: Return the validation error after each epoch (i.e learning curve) and your model\n",
        "\n",
        "\n",
        "def test(x_test, y_test, model):\n",
        "\n",
        "    graph = tf.Graph()\n",
        "    with tf.Session(graph=graph) as sess:\n",
        "        # import the saved graph\n",
        "        saver = tf.train.import_meta_graph(model + \".meta\")\n",
        "        saver.restore(sess, model)\n",
        "        # get the tensors that we need\n",
        "        _x = graph.get_tensor_by_name('input_data:0')\n",
        "        _y = graph.get_tensor_by_name('output_data:0')\n",
        "        _accuracy = graph.get_tensor_by_name('accuracy:0')\n",
        "        test_error = 1 - _accuracy.eval({_x: x_test, _y: y_test})\n",
        "        \n",
        "    return test_error"
      ],
      "execution_count": 0,
      "outputs": []
    },
    {
      "metadata": {
        "id": "FmvngPX0dOnf",
        "colab_type": "text"
      },
      "cell_type": "markdown",
      "source": [
        "### The main code "
      ]
    },
    {
      "metadata": {
        "id": "SL7ZTV6tlHJc",
        "colab_type": "code",
        "outputId": "b8002d9d-44e7-4e9f-c634-bc297d720692",
        "colab": {
          "base_uri": "https://localhost:8080/",
          "height": 204
        }
      },
      "cell_type": "code",
      "source": [
        "#--- Define global settings for the run\n",
        "lr = 0.1\n",
        "filter_size = 3\n",
        "num_filters = 16\n",
        "batch_size = 128\n",
        "epochs = 5\n",
        "\n",
        "#---  train and test convolutional neural network\n",
        "x_train, y_train, x_valid, y_valid, x_test, y_test = mnist()\n",
        "learning_curve, model = train_and_validate(x_train, y_train, x_valid, y_valid, epochs, lr, filter_size, num_filters, batch_size)\n",
        "test_error = test(x_test, y_test, model)\n",
        "print(\"The test Error here is {}...\".format(test_error))\n",
        "#--- save results in a dictionary and write them into a .json file\n",
        "results = dict()\n",
        "results[\"lr\"] = lr\n",
        "results[\"num_filters\"] = num_filters\n",
        "results[\"batch_size\"] = batch_size\n",
        "results[\"learning_curve\"] = learning_curve.tolist()\n",
        "results[\"test_error\"] = test_error\n",
        "\n",
        "path = \"results\"\n",
        "os.makedirs(path, exist_ok=True)\n",
        "fname = os.path.join(path, \"results_run_%d.json\" % 1)\n",
        "\n",
        "fh = open(fname, \"w\")\n",
        "json.dump(results, fh)\n",
        "fh.close()"
      ],
      "execution_count": 33,
      "outputs": [
        {
          "output_type": "stream",
          "text": [
            "... loading data\n",
            "... done loading data\n",
            "Training... with dataset - X:(50000, 28, 28, 1) and Y:(50000, 10) \n",
            "\n",
            "saved at ./save/model.ckpt\n",
            "---------------------------------------- \n",
            "Validation Error = 0.019\n",
            " ----------------------------------------\n",
            "INFO:tensorflow:Restoring parameters from ./save/model.ckpt\n"
          ],
          "name": "stdout"
        },
        {
          "output_type": "stream",
          "text": [
            "INFO:tensorflow:Restoring parameters from ./save/model.ckpt\n"
          ],
          "name": "stderr"
        },
        {
          "output_type": "stream",
          "text": [
            "The test Error here is 0.018899977207183838...\n"
          ],
          "name": "stdout"
        }
      ]
    },
    {
      "metadata": {
        "id": "XND5P7tWAZs0",
        "colab_type": "text"
      },
      "cell_type": "markdown",
      "source": [
        "## Learning Rate\n",
        "After implementing our neural network and making sure that it works correctly,\n",
        "we will have a look on the effect of the learning rate on the network’s perfor-\n",
        "mance. Try the following values for the learning rate: {0.1, 0.01, 0.001, 0.0001},\n",
        "save the results (validation performance after each epoch) and plot all learning\n",
        "curves in the same figure."
      ]
    },
    {
      "metadata": {
        "id": "NVF_isBDAZ13",
        "colab_type": "code",
        "outputId": "13567f81-16c6-453f-c974-f6538ca3ee1f",
        "colab": {
          "base_uri": "https://localhost:8080/",
          "height": 1296
        }
      },
      "cell_type": "code",
      "source": [
        "#--- Read the common definitions\n",
        "x_train, y_train, x_valid, y_valid, x_test, y_test = mnist()\n",
        "filter_size = 3\n",
        "num_filters = 16\n",
        "lr = [0.1, 0.01, 0.001, 0.0001]\n",
        "batch_size = 128\n",
        "epochs = 25\n",
        "\n",
        "#--- save results in a dictionary and write them into a .json file\n",
        "results = [dict() for x in range(len(lr))]\n",
        "\n",
        "#--- Figure to plot\n",
        "plt.figure(figsize=(12, 8))\n",
        "                                                               \n",
        "for i in range(len(lr)):\n",
        "\n",
        "    print('-' * 40, \"\\nWorking on LR={}\\n\".format(lr[i]), '-' * 40)\n",
        "\n",
        "  \n",
        "    #--- Make sure to start clean\n",
        "    tf.reset_default_graph()\n",
        "    learning_curve, model = train_and_validate(x_train, y_train, x_valid, y_valid, epochs, lr[i], filter_size, num_filters, batch_size)\n",
        "    \n",
        "    test_error = test(x_test, y_test, model)\n",
        "    results[i][\"lr\"] = lr\n",
        "    results[i][\"num_filters\"] = num_filters\n",
        "    results[i][\"filter_size\"] = filter_size\n",
        "    results[i][\"batch_size\"] = batch_size\n",
        "    results[i][\"learning_curve\"] = learning_curve.tolist()\n",
        "    results[i][\"test_error\"] = test_error\n",
        "    plt.plot(learning_curve, label=\"Lr=\" + str(lr[i]))\n",
        "\n",
        "    #--- Store the information\n",
        "    fname = os.path.join(path, \"results_run_lr_\" + str(lr[i]) + \".json\")\n",
        "    fh = open(fname, \"w\")\n",
        "    json.dump(results[i], fh)\n",
        "    fh.close()\n",
        "                                 \n",
        "                                 \n",
        "#--- Some final details for the plot\n",
        "plt.ylabel('Validation Error')                                 \n",
        "plt.xlabel('Epochs')                                 \n",
        "plt.legend(loc='best')                             \n"
      ],
      "execution_count": 34,
      "outputs": [
        {
          "output_type": "stream",
          "text": [
            "... loading data\n",
            "... done loading data\n",
            "---------------------------------------- \n",
            "Working on LR=0.1\n",
            " ----------------------------------------\n",
            "Training... with dataset - X:(50000, 28, 28, 1) and Y:(50000, 10) \n",
            "\n",
            "saved at ./save/model.ckpt\n",
            "---------------------------------------- \n",
            "Validation Error = 0.017\n",
            " ----------------------------------------\n",
            "INFO:tensorflow:Restoring parameters from ./save/model.ckpt\n"
          ],
          "name": "stdout"
        },
        {
          "output_type": "stream",
          "text": [
            "INFO:tensorflow:Restoring parameters from ./save/model.ckpt\n"
          ],
          "name": "stderr"
        },
        {
          "output_type": "stream",
          "text": [
            "---------------------------------------- \n",
            "Working on LR=0.01\n",
            " ----------------------------------------\n",
            "Training... with dataset - X:(50000, 28, 28, 1) and Y:(50000, 10) \n",
            "\n",
            "saved at ./save/model.ckpt\n",
            "---------------------------------------- \n",
            "Validation Error = 0.024\n",
            " ----------------------------------------\n",
            "INFO:tensorflow:Restoring parameters from ./save/model.ckpt\n"
          ],
          "name": "stdout"
        },
        {
          "output_type": "stream",
          "text": [
            "INFO:tensorflow:Restoring parameters from ./save/model.ckpt\n"
          ],
          "name": "stderr"
        },
        {
          "output_type": "stream",
          "text": [
            "---------------------------------------- \n",
            "Working on LR=0.001\n",
            " ----------------------------------------\n",
            "Training... with dataset - X:(50000, 28, 28, 1) and Y:(50000, 10) \n",
            "\n",
            "saved at ./save/model.ckpt\n",
            "---------------------------------------- \n",
            "Validation Error = 0.072\n",
            " ----------------------------------------\n",
            "INFO:tensorflow:Restoring parameters from ./save/model.ckpt\n"
          ],
          "name": "stdout"
        },
        {
          "output_type": "stream",
          "text": [
            "INFO:tensorflow:Restoring parameters from ./save/model.ckpt\n"
          ],
          "name": "stderr"
        },
        {
          "output_type": "stream",
          "text": [
            "---------------------------------------- \n",
            "Working on LR=0.0001\n",
            " ----------------------------------------\n",
            "Training... with dataset - X:(50000, 28, 28, 1) and Y:(50000, 10) \n",
            "\n",
            "saved at ./save/model.ckpt\n",
            "---------------------------------------- \n",
            "Validation Error = 0.775\n",
            " ----------------------------------------\n",
            "INFO:tensorflow:Restoring parameters from ./save/model.ckpt\n"
          ],
          "name": "stdout"
        },
        {
          "output_type": "stream",
          "text": [
            "INFO:tensorflow:Restoring parameters from ./save/model.ckpt\n"
          ],
          "name": "stderr"
        },
        {
          "output_type": "execute_result",
          "data": {
            "text/plain": [
              "<matplotlib.legend.Legend at 0x7ffa30a0c7f0>"
            ]
          },
          "metadata": {
            "tags": []
          },
          "execution_count": 34
        },
        {
          "output_type": "display_data",
          "data": {
            "image/png": "[encoded data removed]",
            "text/plain": [
              "<matplotlib.figure.Figure at 0x7ffa30d897f0>"
            ]
          },
          "metadata": {
            "tags": []
          }
        }
      ]
    },
    {
      "metadata": {
        "id": "MXTQ6FX1A-Nc",
        "colab_type": "text"
      },
      "cell_type": "markdown",
      "source": [
        "Which conclusions could be drawn from this figure? Which value for the\n",
        "learning rate works best? Do you have an idea what is happening if the learning\n",
        "rate is too small / high?"
      ]
    },
    {
      "metadata": {
        "id": "dJj8xBDrA3-2",
        "colab_type": "text"
      },
      "cell_type": "markdown",
      "source": [
        "##Convolution Type\n",
        "In the lecture we learned that one can use different filter size for the convolutions.\n",
        "Try out the following filter sizes {1, 3, 5, 7} (the same for height and width) and\n",
        "report the results. Make sure that for all filter sizes you use the padding strategy\n",
        "’SAME’."
      ]
    },
    {
      "metadata": {
        "id": "1Rrjrx5rA4Fk",
        "colab_type": "code",
        "outputId": "257d3b0b-20a3-41c4-f66f-e56478199342",
        "colab": {
          "base_uri": "https://localhost:8080/",
          "height": 1364
        }
      },
      "cell_type": "code",
      "source": [
        "#--- Read the common definitions\n",
        "x_train, y_train, x_valid, y_valid, x_test, y_test = mnist()\n",
        "filter_size = [1, 3, 5, 7]\n",
        "num_filters = 16\n",
        "lr = 0.1\n",
        "batch_size = 128\n",
        "epochs = 25\n",
        "\n",
        "#--- save results in a dictionary and write them into a .json file\n",
        "results = [dict() for x in range(len(filter_size))]\n",
        "\n",
        "#--- Figure to plot\n",
        "plt.figure(figsize=(12, 8))\n",
        "                                                               \n",
        "for i in range(len(filter_size)):\n",
        "\n",
        "    print('-' * 40, \"\\nWorking on filter_size={}\\n\".format(filter_size[i]), '-' * 40, \"\\n\")\n",
        "\n",
        "  \n",
        "    #--- Make sure to start clean\n",
        "    tf.reset_default_graph()\n",
        "    learning_curve, model = train_and_validate(x_train, y_train, x_valid, y_valid, epochs, lr, filter_size[i], num_filters, batch_size)\n",
        "    \n",
        "    test_error = test(x_test, y_test, model)\n",
        "    results[i][\"lr\"] = lr\n",
        "    results[i][\"filter_size\"] = filter_size[i]\n",
        "    results[i][\"num_filters\"] = num_filters\n",
        "    results[i][\"batch_size\"] = batch_size\n",
        "    results[i][\"learning_curve\"] = learning_curve.tolist()\n",
        "    results[i][\"test_error\"] = test_error\n",
        "    plt.plot(learning_curve, label=\"filter_size=\" + str(filter_size[i]))\n",
        "\n",
        "    # Store the information\n",
        "    fname = os.path.join(path, \"results_run_filter_size_\" + str(filter_size[i]) + \".json\")\n",
        "    fh = open(fname, \"w\")\n",
        "    json.dump(results[i], fh)\n",
        "    fh.close()\n",
        "                                 \n",
        "                                 \n",
        "# Some final details for the plot\n",
        "plt.ylabel('Validation Error')                                 \n",
        "plt.xlabel('Epochs')                                 \n",
        "plt.legend(loc='best')   "
      ],
      "execution_count": 35,
      "outputs": [
        {
          "output_type": "stream",
          "text": [
            "... loading data\n",
            "... done loading data\n",
            "---------------------------------------- \n",
            "Working on filter_size=1\n",
            " ---------------------------------------- \n",
            "\n",
            "Training... with dataset - X:(50000, 28, 28, 1) and Y:(50000, 10) \n",
            "\n",
            "saved at ./save/model.ckpt\n",
            "---------------------------------------- \n",
            "Validation Error = 0.062\n",
            " ----------------------------------------\n",
            "INFO:tensorflow:Restoring parameters from ./save/model.ckpt\n"
          ],
          "name": "stdout"
        },
        {
          "output_type": "stream",
          "text": [
            "INFO:tensorflow:Restoring parameters from ./save/model.ckpt\n"
          ],
          "name": "stderr"
        },
        {
          "output_type": "stream",
          "text": [
            "---------------------------------------- \n",
            "Working on filter_size=3\n",
            " ---------------------------------------- \n",
            "\n",
            "Training... with dataset - X:(50000, 28, 28, 1) and Y:(50000, 10) \n",
            "\n",
            "saved at ./save/model.ckpt\n",
            "---------------------------------------- \n",
            "Validation Error = 0.014\n",
            " ----------------------------------------\n",
            "INFO:tensorflow:Restoring parameters from ./save/model.ckpt\n"
          ],
          "name": "stdout"
        },
        {
          "output_type": "stream",
          "text": [
            "INFO:tensorflow:Restoring parameters from ./save/model.ckpt\n"
          ],
          "name": "stderr"
        },
        {
          "output_type": "stream",
          "text": [
            "---------------------------------------- \n",
            "Working on filter_size=5\n",
            " ---------------------------------------- \n",
            "\n",
            "Training... with dataset - X:(50000, 28, 28, 1) and Y:(50000, 10) \n",
            "\n",
            "saved at ./save/model.ckpt\n",
            "---------------------------------------- \n",
            "Validation Error = 0.085\n",
            " ----------------------------------------\n",
            "INFO:tensorflow:Restoring parameters from ./save/model.ckpt\n"
          ],
          "name": "stdout"
        },
        {
          "output_type": "stream",
          "text": [
            "INFO:tensorflow:Restoring parameters from ./save/model.ckpt\n"
          ],
          "name": "stderr"
        },
        {
          "output_type": "stream",
          "text": [
            "---------------------------------------- \n",
            "Working on filter_size=7\n",
            " ---------------------------------------- \n",
            "\n",
            "Training... with dataset - X:(50000, 28, 28, 1) and Y:(50000, 10) \n",
            "\n",
            "saved at ./save/model.ckpt\n",
            "---------------------------------------- \n",
            "Validation Error = 0.011\n",
            " ----------------------------------------\n",
            "INFO:tensorflow:Restoring parameters from ./save/model.ckpt\n"
          ],
          "name": "stdout"
        },
        {
          "output_type": "stream",
          "text": [
            "INFO:tensorflow:Restoring parameters from ./save/model.ckpt\n"
          ],
          "name": "stderr"
        },
        {
          "output_type": "execute_result",
          "data": {
            "text/plain": [
              "<matplotlib.legend.Legend at 0x7ffa30a0d400>"
            ]
          },
          "metadata": {
            "tags": []
          },
          "execution_count": 35
        },
        {
          "output_type": "display_data",
          "data": {
            "image/png": "[encoded data removed]",
            "text/plain": [
              "<matplotlib.figure.Figure at 0x7ffa30a0db70>"
            ]
          },
          "metadata": {
            "tags": []
          }
        }
      ]
    },
    {
      "metadata": {
        "id": "FaIts96xBCSz",
        "colab_type": "text"
      },
      "cell_type": "markdown",
      "source": [
        "Again plot the learning curves and analyze the results. Do you have an idea\n",
        "in which scenarios smaller filters might be better than larger filters and vice\n",
        "versa?"
      ]
    },
    {
      "metadata": {
        "id": "5k6t2rDABFN9",
        "colab_type": "text"
      },
      "cell_type": "markdown",
      "source": [
        "##Random Search\n",
        "As you can see, setting the hyperparameters correctly makes a huge differ-\n",
        "ence. Unfortunately, the most hyperparameter are not easily transferable across\n",
        "datasets, for instance the optimal learning rate depends on the dataset. Besides\n",
        "the learning rate and the filter sizes, there are more hyperparameters that can\n",
        "be tuned. In the last part of this exercise we will apply random search to\n",
        "automatically tune the following hyperparameters:\n",
        "* learning rate ∈ [10 −4 , 10 −1 ]\n",
        "* batch size ∈ [16, 128]\n",
        "* number of filters ∈ [2^3 , 2^6 ]\n",
        "* filter size ∈ {3, 5}\n",
        "\n",
        "\n",
        "Make sure that you optimize the first three on a logarithmic scale and that\n",
        "the filter size is a categorical hyperparameter. Run random search for 50 iter-\n",
        "ations where each function evaluation has a budget of 6 epochs. We will use\n",
        "the HpBandster (https://github.com/automl/HpBandSter) package for random\n",
        "search. You can install via ’pip install hpbandster’ .\n",
        "\n",
        "In order to evaluate the progress of random search, plot the validation per-\n",
        "formance of the best found configuration after each iteration. Finally, evaluate\n",
        "the test performance of the best configuration that you found."
      ]
    },
    {
      "metadata": {
        "id": "2YoqF8jJULpw",
        "colab_type": "code",
        "outputId": "a1133fa9-17e0-4581-c6f7-6a08eda187ba",
        "colab": {
          "base_uri": "https://localhost:8080/",
          "height": 5799
        }
      },
      "cell_type": "code",
      "source": [
        "!pip install hpbandster\n",
        "import logging\n",
        "\n",
        "logging.basicConfig(level=logging.WARNING)\n",
        "\n",
        "import hpbandster.core.nameserver as hpns\n",
        "\n",
        "from hpbandster.optimizers import RandomSearch\n",
        "\n",
        "import ConfigSpace as CS\n",
        "from hpbandster.core.worker import Worker\n",
        "import argparse\n",
        "\n",
        "\n",
        "class MyWorker(Worker):\n",
        "\n",
        "    def __init__(self, *args, **kwargs):\n",
        "        super().__init__(*args, **kwargs)\n",
        "        self.x_train, self.y_train, self.x_valid, self.y_valid, self.x_test, self.y_test = mnist(\"./\")\n",
        "\n",
        "    def compute(self, config, budget, **kwargs):\n",
        "        \"\"\"\n",
        "        Evaluates the configuration on the defined budget and returns the validation performance.\n",
        "        Args:\n",
        "            config: dictionary containing the sampled configurations by the optimizer\n",
        "            budget: (float) amount of time/epochs/etc. the model can use to train\n",
        "        Returns:\n",
        "            dictionary with mandatory fields:\n",
        "                'loss' (scalar)\n",
        "                'info' (dict)\n",
        "        \"\"\"\n",
        "\n",
        "        learning_curve, model = train_and_validate(self.x_train, self.y_train, self.x_valid, self.y_valid, int(budget), config['lr'], int(config['filter_size']), int(config['num_filters']), int(config['batch_size']))\n",
        "    \n",
        "        validation_error = learning_curve[-1]\n",
        "        \n",
        "        # TODO: We minimize so make sure you return the validation error here\n",
        "        return ({\n",
        "            'loss': validation_error,  # this is the a mandatory field to run hyperband\n",
        "            'info': {}  # can be used for any user-defined information - also mandatory\n",
        "        })\n",
        "\n",
        "    @staticmethod\n",
        "    def get_configspace():\n",
        "        config_space = CS.ConfigurationSpace()\n",
        "\n",
        "        lr = CS.hyperparameters.UniformFloatHyperparameter('lr', lower=10e-4, upper=10e-1, default_value=1e-2, log=True)\n",
        "\n",
        "        batch_size = CS.hyperparameters.UniformIntegerHyperparameter('batch_size', lower=16, upper=128, default_value=64, log=True)\n",
        "        \n",
        "        num_filters = CS.hyperparameters.UniformIntegerHyperparameter('num_filters', lower=8, upper=64, default_value=16, log=True)\n",
        "        # For demonstration purposes, we add different optimizers as categorical hyperparameters.\n",
        "        # To show how to use conditional hyperparameters with ConfigSpace, we'll add the optimizers 'Adam' and 'SGD'.\n",
        "        # SGD has a different parameter 'momentum'.\n",
        "        filter_size = CS.hyperparameters.CategoricalHyperparameter('filter_size', ['3', '5'])\n",
        "  \n",
        "        config_space.add_hyperparameters([lr, batch_size, num_filters, filter_size])\n",
        "\n",
        "        # TODO: Implement configuration space here. See https://github.com/automl/HpBandSter/blob/master/hpbandster/examples/example_5_keras_worker.py  for an example\n",
        "        \n",
        "        return config_space\n",
        "\n",
        "\n",
        "#parser = argparse.ArgumentParser(description='Example 1 - sequential and local execution.')\n",
        "#parser.add_argument('--budget', type=float,\n",
        "#                    help='Maximum budget used during the optimization, i.e the number of epochs.', default=12)\n",
        "#parser.add_argument('--n_iterations', type=int, help='Number of iterations performed by the optimizer', default=20)\n",
        "#args = parser.parse_args()\n",
        "\n",
        "# Step 1: Start a nameserver\n",
        "# Every run needs a nameserver. It could be a 'static' server with a\n",
        "# permanent address, but here it will be started for the local machine with the default port.\n",
        "# The nameserver manages the concurrent running workers across all possible threads or clusternodes.\n",
        "# Note the run_id argument. This uniquely identifies a run of any HpBandSter optimizer.\n",
        "NS = hpns.NameServer(run_id='example1', host='127.0.0.1', port=None)\n",
        "NS.start()\n",
        "\n",
        "# Step 2: Start a worker\n",
        "# Now we can instantiate a worker, providing the mandatory information\n",
        "# Besides the sleep_interval, we need to define the nameserver information and\n",
        "# the same run_id as above. After that, we can start the worker in the background,\n",
        "# where it will wait for incoming configurations to evaluate.\n",
        "w = MyWorker(nameserver='127.0.0.1', run_id='example1')\n",
        "w.run(background=True)\n",
        "\n",
        "# Step 3: Run an optimizer\n",
        "# Now we can create an optimizer object and start the run.\n",
        "# Here, we run RandomSearch, but that is not essential.\n",
        "# The run method will return the `Result` that contains all runs performed.\n",
        "\n",
        "rs = RandomSearch(configspace=w.get_configspace(),\n",
        "                  run_id='example1', nameserver='127.0.0.1',\n",
        "                  min_budget=int(12), max_budget=int(12))\n",
        "#                  min_budget=int(args.budget), max_budget=int(args.budget))\n",
        "#res = rs.run(n_iterations=args.n_iterations)\n",
        "res = rs.run(n_iterations=50)\n",
        "\n",
        "# Step 4: Shutdown\n",
        "# After the optimizer run, we must shutdown the master and the nameserver.\n",
        "rs.shutdown(shutdown_workers=True)\n",
        "NS.shutdown()\n",
        "\n",
        "# Step 5: Analysis\n",
        "# Each optimizer returns a hpbandster.core.result.Result object.\n",
        "# It holds information about the optimization run like the incumbent (=best) configuration.\n",
        "# For further details about the Result object, see its documentation.\n",
        "# Here we simply print out the best config and some statistics about the performed runs.\n",
        "id2config = res.get_id2config_mapping()\n",
        "incumbent = res.get_incumbent_id()\n",
        "\n",
        "print('Best found configuration:', id2config[incumbent]['config'])\n",
        "\n",
        "\n",
        "# Plots the performance of the best found validation error over time\n",
        "all_runs = res.get_all_runs()\n",
        "# Let's plot the observed losses grouped by budget,\n",
        "import hpbandster.visualization as hpvis\n",
        "\n",
        "hpvis.losses_over_time(all_runs)\n",
        "\n",
        "import matplotlib.pyplot as plt\n",
        "plt.savefig(\"random_search.png\")\n",
        "\n",
        "# TODO: retrain the best configuration (called incumbent) and compute the test error"
      ],
      "execution_count": 36,
      "outputs": [
        {
          "output_type": "stream",
          "text": [
            "Requirement already satisfied: hpbandster in /usr/local/lib/python3.6/dist-packages (0.7.4)\n",
            "Requirement already satisfied: serpent in /usr/local/lib/python3.6/dist-packages (from hpbandster) (1.27)\n",
            "Requirement already satisfied: netifaces in /usr/local/lib/python3.6/dist-packages (from hpbandster) (0.10.7)\n",
            "Requirement already satisfied: numpy in /usr/local/lib/python3.6/dist-packages (from hpbandster) (1.14.6)\n",
            "Requirement already satisfied: statsmodels in /usr/local/lib/python3.6/dist-packages (from hpbandster) (0.8.0)\n",
            "Requirement already satisfied: Pyro4 in /usr/local/lib/python3.6/dist-packages (from hpbandster) (4.74)\n",
            "Requirement already satisfied: ConfigSpace in /usr/local/lib/python3.6/dist-packages (from hpbandster) (0.4.7)\n",
            "Requirement already satisfied: scipy in /usr/local/lib/python3.6/dist-packages (from hpbandster) (1.1.0)\n",
            "Requirement already satisfied: pandas in /usr/local/lib/python3.6/dist-packages (from statsmodels->hpbandster) (0.22.0)\n",
            "Requirement already satisfied: patsy in /usr/local/lib/python3.6/dist-packages (from statsmodels->hpbandster) (0.5.1)\n",
            "Requirement already satisfied: pyparsing in /usr/local/lib/python3.6/dist-packages (from ConfigSpace->hpbandster) (2.3.0)\n",
            "Requirement already satisfied: Cython in /usr/local/lib/python3.6/dist-packages (from ConfigSpace->hpbandster) (0.29)\n",
            "Requirement already satisfied: typing in /usr/local/lib/python3.6/dist-packages (from ConfigSpace->hpbandster) (3.6.6)\n",
            "Requirement already satisfied: python-dateutil>=2 in /usr/local/lib/python3.6/dist-packages (from pandas->statsmodels->hpbandster) (2.5.3)\n",
            "Requirement already satisfied: pytz>=2011k in /usr/local/lib/python3.6/dist-packages (from pandas->statsmodels->hpbandster) (2018.7)\n",
            "Requirement already satisfied: six in /usr/local/lib/python3.6/dist-packages (from patsy->statsmodels->hpbandster) (1.11.0)\n",
            "... loading data\n",
            "... done loading data\n",
            "Training... with dataset - X:(50000, 28, 28, 1) and Y:(50000, 10) \n",
            "\n",
            "saved at ./save/model.ckpt\n",
            "---------------------------------------- \n",
            "Validation Error = 0.018\n",
            " ----------------------------------------\n",
            "Training... with dataset - X:(50000, 28, 28, 1) and Y:(50000, 10) \n",
            "\n",
            "saved at ./save/model.ckpt\n",
            "---------------------------------------- \n",
            "Validation Error = 0.018\n",
            " ----------------------------------------\n",
            "Training... with dataset - X:(50000, 28, 28, 1) and Y:(50000, 10) \n",
            "\n",
            "saved at ./save/model.ckpt\n",
            "---------------------------------------- \n",
            "Validation Error = 0.035\n",
            " ----------------------------------------\n",
            "Training... with dataset - X:(50000, 28, 28, 1) and Y:(50000, 10) \n",
            "\n",
            "saved at ./save/model.ckpt\n",
            "---------------------------------------- \n",
            "Validation Error = 0.894\n",
            " ----------------------------------------\n",
            "Training... with dataset - X:(50000, 28, 28, 1) and Y:(50000, 10) \n",
            "\n",
            "saved at ./save/model.ckpt\n",
            "---------------------------------------- \n",
            "Validation Error = 0.009\n",
            " ----------------------------------------\n",
            "Training... with dataset - X:(50000, 28, 28, 1) and Y:(50000, 10) \n",
            "\n",
            "saved at ./save/model.ckpt\n",
            "---------------------------------------- \n",
            "Validation Error = 0.011\n",
            " ----------------------------------------\n",
            "Training... with dataset - X:(50000, 28, 28, 1) and Y:(50000, 10) \n",
            "\n",
            "saved at ./save/model.ckpt\n",
            "---------------------------------------- \n",
            "Validation Error = 0.044\n",
            " ----------------------------------------\n",
            "Training... with dataset - X:(50000, 28, 28, 1) and Y:(50000, 10) \n",
            "\n",
            "saved at ./save/model.ckpt\n",
            "---------------------------------------- \n",
            "Validation Error = 0.010\n",
            " ----------------------------------------\n",
            "Training... with dataset - X:(50000, 28, 28, 1) and Y:(50000, 10) \n",
            "\n",
            "saved at ./save/model.ckpt\n",
            "---------------------------------------- \n",
            "Validation Error = 0.009\n",
            " ----------------------------------------\n",
            "Training... with dataset - X:(50000, 28, 28, 1) and Y:(50000, 10) \n",
            "\n",
            "saved at ./save/model.ckpt\n",
            "---------------------------------------- \n",
            "Validation Error = 0.012\n",
            " ----------------------------------------\n",
            "Training... with dataset - X:(50000, 28, 28, 1) and Y:(50000, 10) \n",
            "\n",
            "saved at ./save/model.ckpt\n",
            "---------------------------------------- \n",
            "Validation Error = 0.009\n",
            " ----------------------------------------\n",
            "Training... with dataset - X:(50000, 28, 28, 1) and Y:(50000, 10) \n",
            "\n",
            "saved at ./save/model.ckpt\n",
            "---------------------------------------- \n",
            "Validation Error = 0.033\n",
            " ----------------------------------------\n",
            "Training... with dataset - X:(50000, 28, 28, 1) and Y:(50000, 10) \n",
            "\n",
            "saved at ./save/model.ckpt\n",
            "---------------------------------------- \n",
            "Validation Error = 0.013\n",
            " ----------------------------------------\n",
            "Training... with dataset - X:(50000, 28, 28, 1) and Y:(50000, 10) \n",
            "\n",
            "saved at ./save/model.ckpt\n",
            "---------------------------------------- \n",
            "Validation Error = 0.013\n",
            " ----------------------------------------\n",
            "Training... with dataset - X:(50000, 28, 28, 1) and Y:(50000, 10) \n",
            "\n",
            "saved at ./save/model.ckpt\n",
            "---------------------------------------- \n",
            "Validation Error = 0.056\n",
            " ----------------------------------------\n",
            "Training... with dataset - X:(50000, 28, 28, 1) and Y:(50000, 10) \n",
            "\n",
            "saved at ./save/model.ckpt\n",
            "---------------------------------------- \n",
            "Validation Error = 0.009\n",
            " ----------------------------------------\n",
            "Training... with dataset - X:(50000, 28, 28, 1) and Y:(50000, 10) \n",
            "\n",
            "saved at ./save/model.ckpt\n",
            "---------------------------------------- \n",
            "Validation Error = 0.894\n",
            " ----------------------------------------\n",
            "Training... with dataset - X:(50000, 28, 28, 1) and Y:(50000, 10) \n",
            "\n",
            "saved at ./save/model.ckpt\n",
            "---------------------------------------- \n",
            "Validation Error = 0.032\n",
            " ----------------------------------------\n",
            "Training... with dataset - X:(50000, 28, 28, 1) and Y:(50000, 10) \n",
            "\n",
            "saved at ./save/model.ckpt\n",
            "---------------------------------------- \n",
            "Validation Error = 0.041\n",
            " ----------------------------------------\n",
            "Training... with dataset - X:(50000, 28, 28, 1) and Y:(50000, 10) \n",
            "\n",
            "saved at ./save/model.ckpt\n",
            "---------------------------------------- \n",
            "Validation Error = 0.041\n",
            " ----------------------------------------\n",
            "Training... with dataset - X:(50000, 28, 28, 1) and Y:(50000, 10) \n",
            "\n",
            "saved at ./save/model.ckpt\n",
            "---------------------------------------- \n",
            "Validation Error = 0.046\n",
            " ----------------------------------------\n",
            "Training... with dataset - X:(50000, 28, 28, 1) and Y:(50000, 10) \n",
            "\n",
            "saved at ./save/model.ckpt\n",
            "---------------------------------------- \n",
            "Validation Error = 0.894\n",
            " ----------------------------------------\n",
            "Training... with dataset - X:(50000, 28, 28, 1) and Y:(50000, 10) \n",
            "\n",
            "saved at ./save/model.ckpt\n",
            "---------------------------------------- \n",
            "Validation Error = 0.024\n",
            " ----------------------------------------\n",
            "Training... with dataset - X:(50000, 28, 28, 1) and Y:(50000, 10) \n",
            "\n",
            "saved at ./save/model.ckpt\n",
            "---------------------------------------- \n",
            "Validation Error = 0.019\n",
            " ----------------------------------------\n",
            "Training... with dataset - X:(50000, 28, 28, 1) and Y:(50000, 10) \n",
            "\n",
            "saved at ./save/model.ckpt\n",
            "---------------------------------------- \n",
            "Validation Error = 0.012\n",
            " ----------------------------------------\n",
            "Training... with dataset - X:(50000, 28, 28, 1) and Y:(50000, 10) \n",
            "\n",
            "saved at ./save/model.ckpt\n",
            "---------------------------------------- \n",
            "Validation Error = 0.013\n",
            " ----------------------------------------\n",
            "Training... with dataset - X:(50000, 28, 28, 1) and Y:(50000, 10) \n",
            "\n",
            "saved at ./save/model.ckpt\n",
            "---------------------------------------- \n",
            "Validation Error = 0.010\n",
            " ----------------------------------------\n",
            "Training... with dataset - X:(50000, 28, 28, 1) and Y:(50000, 10) \n",
            "\n",
            "saved at ./save/model.ckpt\n",
            "---------------------------------------- \n",
            "Validation Error = 0.894\n",
            " ----------------------------------------\n",
            "Training... with dataset - X:(50000, 28, 28, 1) and Y:(50000, 10) \n",
            "\n",
            "saved at ./save/model.ckpt\n",
            "---------------------------------------- \n",
            "Validation Error = 0.009\n",
            " ----------------------------------------\n",
            "Training... with dataset - X:(50000, 28, 28, 1) and Y:(50000, 10) \n",
            "\n",
            "saved at ./save/model.ckpt\n",
            "---------------------------------------- \n",
            "Validation Error = 0.012\n",
            " ----------------------------------------\n",
            "Training... with dataset - X:(50000, 28, 28, 1) and Y:(50000, 10) \n",
            "\n",
            "saved at ./save/model.ckpt\n",
            "---------------------------------------- \n",
            "Validation Error = 0.897\n",
            " ----------------------------------------\n",
            "Training... with dataset - X:(50000, 28, 28, 1) and Y:(50000, 10) \n",
            "\n",
            "saved at ./save/model.ckpt\n",
            "---------------------------------------- \n",
            "Validation Error = 0.015\n",
            " ----------------------------------------\n",
            "Training... with dataset - X:(50000, 28, 28, 1) and Y:(50000, 10) \n",
            "\n",
            "saved at ./save/model.ckpt\n",
            "---------------------------------------- \n",
            "Validation Error = 0.894\n",
            " ----------------------------------------\n",
            "Training... with dataset - X:(50000, 28, 28, 1) and Y:(50000, 10) \n",
            "\n",
            "saved at ./save/model.ckpt\n",
            "---------------------------------------- \n",
            "Validation Error = 0.028\n",
            " ----------------------------------------\n",
            "Training... with dataset - X:(50000, 28, 28, 1) and Y:(50000, 10) \n",
            "\n",
            "saved at ./save/model.ckpt\n",
            "---------------------------------------- \n",
            "Validation Error = 0.042\n",
            " ----------------------------------------\n",
            "Training... with dataset - X:(50000, 28, 28, 1) and Y:(50000, 10) \n",
            "\n",
            "saved at ./save/model.ckpt\n",
            "---------------------------------------- \n",
            "Validation Error = 0.010\n",
            " ----------------------------------------\n",
            "Training... with dataset - X:(50000, 28, 28, 1) and Y:(50000, 10) \n",
            "\n",
            "saved at ./save/model.ckpt\n",
            "---------------------------------------- \n",
            "Validation Error = 0.029\n",
            " ----------------------------------------\n",
            "Training... with dataset - X:(50000, 28, 28, 1) and Y:(50000, 10) \n",
            "\n",
            "saved at ./save/model.ckpt\n",
            "---------------------------------------- \n",
            "Validation Error = 0.026\n",
            " ----------------------------------------\n",
            "Training... with dataset - X:(50000, 28, 28, 1) and Y:(50000, 10) \n",
            "\n",
            "saved at ./save/model.ckpt\n",
            "---------------------------------------- \n",
            "Validation Error = 0.014\n",
            " ----------------------------------------\n",
            "Training... with dataset - X:(50000, 28, 28, 1) and Y:(50000, 10) \n",
            "\n",
            "saved at ./save/model.ckpt\n",
            "---------------------------------------- \n",
            "Validation Error = 0.042\n",
            " ----------------------------------------\n",
            "Training... with dataset - X:(50000, 28, 28, 1) and Y:(50000, 10) \n",
            "\n",
            "saved at ./save/model.ckpt\n",
            "---------------------------------------- \n",
            "Validation Error = 0.894\n",
            " ----------------------------------------\n",
            "Training... with dataset - X:(50000, 28, 28, 1) and Y:(50000, 10) \n",
            "\n",
            "saved at ./save/model.ckpt\n",
            "---------------------------------------- \n",
            "Validation Error = 0.024\n",
            " ----------------------------------------\n",
            "Training... with dataset - X:(50000, 28, 28, 1) and Y:(50000, 10) \n",
            "\n",
            "saved at ./save/model.ckpt\n",
            "---------------------------------------- \n",
            "Validation Error = 0.038\n",
            " ----------------------------------------\n",
            "Training... with dataset - X:(50000, 28, 28, 1) and Y:(50000, 10) \n",
            "\n",
            "saved at ./save/model.ckpt\n",
            "---------------------------------------- \n",
            "Validation Error = 0.894\n",
            " ----------------------------------------\n",
            "Training... with dataset - X:(50000, 28, 28, 1) and Y:(50000, 10) \n",
            "\n",
            "saved at ./save/model.ckpt\n",
            "---------------------------------------- \n",
            "Validation Error = 0.018\n",
            " ----------------------------------------\n",
            "Training... with dataset - X:(50000, 28, 28, 1) and Y:(50000, 10) \n",
            "\n",
            "saved at ./save/model.ckpt\n",
            "---------------------------------------- \n",
            "Validation Error = 0.018\n",
            " ----------------------------------------\n",
            "Training... with dataset - X:(50000, 28, 28, 1) and Y:(50000, 10) \n",
            "\n",
            "saved at ./save/model.ckpt\n",
            "---------------------------------------- \n",
            "Validation Error = 0.027\n",
            " ----------------------------------------\n",
            "Training... with dataset - X:(50000, 28, 28, 1) and Y:(50000, 10) \n",
            "\n",
            "saved at ./save/model.ckpt\n",
            "---------------------------------------- \n",
            "Validation Error = 0.014\n",
            " ----------------------------------------\n",
            "Training... with dataset - X:(50000, 28, 28, 1) and Y:(50000, 10) \n",
            "\n",
            "saved at ./save/model.ckpt\n",
            "---------------------------------------- \n",
            "Validation Error = 0.020\n",
            " ----------------------------------------\n",
            "Training... with dataset - X:(50000, 28, 28, 1) and Y:(50000, 10) \n",
            "\n",
            "saved at ./save/model.ckpt\n",
            "---------------------------------------- \n",
            "Validation Error = 0.010\n",
            " ----------------------------------------\n",
            "Best found configuration: {'batch_size': 27, 'filter_size': '5', 'lr': 0.07226170269979676, 'num_filters': 32}\n"
          ],
          "name": "stdout"
        },
        {
          "output_type": "display_data",
          "data": {
            "image/png": "[encoded data removed]",
            "text/plain": [
              "<matplotlib.figure.Figure at 0x7ffa320da908>"
            ]
          },
          "metadata": {
            "tags": []
          }
        }
      ]
    },
    {
      "metadata": {
        "id": "Hf_CcWmb9K3n",
        "colab_type": "code",
        "colab": {
          "base_uri": "https://localhost:8080/",
          "height": 667
        },
        "outputId": "d7ec419c-4208-4133-8fa4-87bcb51a6e7f"
      },
      "cell_type": "code",
      "source": [
        "#--- Retrain on the best config\n",
        "lr = id2config[incumbent]['config']['lr']\n",
        "filter_size = int(id2config[incumbent]['config']['filter_size'])\n",
        "num_filters = int(id2config[incumbent]['config']['num_filters'])\n",
        "batch_size = int(id2config[incumbent]['config']['batch_size'])\n",
        "epochs = 12\n",
        "\n",
        "#---  train and test convolutional neural network\n",
        "x_train, y_train, x_valid, y_valid, x_test, y_test = mnist()\n",
        "learning_curve, model = train_and_validate(x_train, y_train, x_valid, y_valid, epochs, lr, filter_size, num_filters, batch_size)\n",
        "test_error = test(x_test, y_test, model)\n",
        "\n",
        "#--- Plot\n",
        "plt.figure(figsize=(12, 8))\n",
        "plt.plot(learning_curve, label=\"Run with Best Config\")\n",
        "plt.ylabel('Validation Error')                                 \n",
        "plt.xlabel('Epochs')                                 \n",
        "plt.legend(loc='best') "
      ],
      "execution_count": 38,
      "outputs": [
        {
          "output_type": "stream",
          "text": [
            "... loading data\n",
            "... done loading data\n",
            "Training... with dataset - X:(50000, 28, 28, 1) and Y:(50000, 10) \n",
            "\n",
            "saved at ./save/model.ckpt\n",
            "---------------------------------------- \n",
            "Validation Error = 0.009\n",
            " ----------------------------------------\n",
            "The test error is 0.009400010108947754\n"
          ],
          "name": "stdout"
        },
        {
          "output_type": "execute_result",
          "data": {
            "text/plain": [
              "<matplotlib.legend.Legend at 0x7ffa344778d0>"
            ]
          },
          "metadata": {
            "tags": []
          },
          "execution_count": 38
        },
        {
          "output_type": "display_data",
          "data": {
            "image/png": "[encoded data removed]",
            "text/plain": [
              "<matplotlib.figure.Figure at 0x7ffa3455b048>"
            ]
          },
          "metadata": {
            "tags": []
          }
        }
      ]
    }
  ]
}